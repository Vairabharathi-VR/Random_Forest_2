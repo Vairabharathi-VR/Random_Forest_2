{
 "cells": [
  {
   "cell_type": "code",
   "execution_count": 2,
   "id": "5be8374a",
   "metadata": {},
   "outputs": [
    {
     "name": "stdout",
     "output_type": "stream",
     "text": [
      "The Accuracy of the model is 88.33333333333333 %\n"
     ]
    }
   ],
   "source": [
    "import import_ipynb\n",
    "\n",
    "from Fraud_check_model import main_function\n",
    "\n",
    "result = main_function()*100\n",
    "print(f'The Accuracy of the model is {result} %')"
   ]
  },
  {
   "cell_type": "code",
   "execution_count": null,
   "id": "b5f1767c",
   "metadata": {},
   "outputs": [],
   "source": []
  }
 ],
 "metadata": {
  "kernelspec": {
   "display_name": "Python 3 (ipykernel)",
   "language": "python",
   "name": "python3"
  },
  "language_info": {
   "codemirror_mode": {
    "name": "ipython",
    "version": 3
   },
   "file_extension": ".py",
   "mimetype": "text/x-python",
   "name": "python",
   "nbconvert_exporter": "python",
   "pygments_lexer": "ipython3",
   "version": "3.11.3"
  }
 },
 "nbformat": 4,
 "nbformat_minor": 5
}
