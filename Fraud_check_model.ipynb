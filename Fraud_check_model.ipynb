{
 "cells": [
  {
   "cell_type": "code",
   "execution_count": 2,
   "id": "aa3c83a1",
   "metadata": {},
   "outputs": [
    {
     "name": "stdout",
     "output_type": "stream",
     "text": [
      "The accuracy of our model using Random Forest is 0.875\n"
     ]
    }
   ],
   "source": [
    "import pandas as pd\n",
    "import numpy as np\n",
    "from sklearn.ensemble import RandomForestClassifier\n",
    "from sklearn.preprocessing import StandardScaler\n",
    "from sklearn.model_selection import train_test_split\n",
    "from sklearn.metrics import accuracy_score\n",
    "\n",
    "def read_data():\n",
    "    try:\n",
    "        path = 'E:/Random Forest Project 9 & 10/fraud_check_data.csv'\n",
    "        data = pd.read_csv(path)\n",
    "        return data\n",
    "    except Exception as e:\n",
    "        print(e)\n",
    "\n",
    "def data_prep(data):\n",
    "    X = data[['Undergrad', 'Work.Experience', 'Urban', 'Divorced', 'Married', 'Single']]\n",
    "    y = data['Risky']\n",
    "    scaler = StandardScaler()\n",
    "    X_scaled = scaler.fit_transform(X)\n",
    "    X_train, X_test, y_train, y_test = train_test_split(X_scaled,y, test_size=0.2,shuffle=True, random_state=738)\n",
    "    return X_train, X_test, y_train, y_test\n",
    "\n",
    "def rand_clf(X_train, y_train, X_test):\n",
    "    model = RandomForestClassifier(class_weight= None, max_depth =None, min_samples_leaf=4, min_samples_split= 10, n_estimators=50)\n",
    "    model_fit = model.fit(X_train, y_train)\n",
    "    pred = model_fit.predict(X_test)\n",
    "    return pred\n",
    "\n",
    "def rand_clf_diag(y_test, pred):\n",
    "    acc = accuracy_score(y_test, pred)\n",
    "    return acc\n",
    "\n",
    "def main_function():\n",
    "    data = read_data()\n",
    "    X_train, X_test, y_train, y_test = data_prep(data)\n",
    "    pred = rand_clf(X_train, y_train, X_test)\n",
    "    acc = rand_clf_diag(y_test, pred)\n",
    "    return acc\n",
    "\n",
    "results = main_function()\n",
    "print(f'The accuracy of our model using Random Forest is {results}')"
   ]
  },
  {
   "cell_type": "code",
   "execution_count": null,
   "id": "acc306d3",
   "metadata": {},
   "outputs": [],
   "source": []
  }
 ],
 "metadata": {
  "kernelspec": {
   "display_name": "Python 3 (ipykernel)",
   "language": "python",
   "name": "python3"
  },
  "language_info": {
   "codemirror_mode": {
    "name": "ipython",
    "version": 3
   },
   "file_extension": ".py",
   "mimetype": "text/x-python",
   "name": "python",
   "nbconvert_exporter": "python",
   "pygments_lexer": "ipython3",
   "version": "3.11.3"
  }
 },
 "nbformat": 4,
 "nbformat_minor": 5
}
